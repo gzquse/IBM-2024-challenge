{
 "cells": [
  {
   "cell_type": "code",
   "execution_count": 1,
   "id": "6cdbb370-1266-45d0-bf5d-499a4dbc00f0",
   "metadata": {
    "tags": []
   },
   "outputs": [
    {
     "name": "stderr",
     "output_type": "stream",
     "text": [
      "/opt/conda/lib/python3.8/site-packages/cupy/_environment.py:439: UserWarning: \n",
      "--------------------------------------------------------------------------------\n",
      "\n",
      "  CuPy may not function correctly because multiple CuPy packages are installed\n",
      "  in your environment:\n",
      "\n",
      "    cupy, cupy-cuda11x\n",
      "\n",
      "  Follow these steps to resolve this issue:\n",
      "\n",
      "    1. For all packages listed above, run the following command to remove all\n",
      "       existing CuPy installations:\n",
      "\n",
      "         $ pip uninstall <package_name>\n",
      "\n",
      "      If you previously installed CuPy via conda, also run the following:\n",
      "\n",
      "         $ conda uninstall cupy\n",
      "\n",
      "    2. Install the appropriate CuPy package.\n",
      "       Refer to the Installation Guide for detailed instructions.\n",
      "\n",
      "         https://docs.cupy.dev/en/stable/install.html\n",
      "\n",
      "--------------------------------------------------------------------------------\n",
      "\n",
      "  warnings.warn(f'''\n"
     ]
    }
   ],
   "source": [
    "import cuquantum\n"
   ]
  },
  {
   "cell_type": "code",
   "execution_count": 2,
   "id": "214ba398-b390-4437-a63b-18f7d0a1cb73",
   "metadata": {
    "tags": []
   },
   "outputs": [
    {
     "name": "stdout",
     "output_type": "stream",
     "text": [
      "test passed\n"
     ]
    }
   ],
   "source": [
    "import numpy as np\n",
    "import cupy as cp\n",
    "\n",
    "import cuquantum\n",
    "from cuquantum import custatevec as cusv\n",
    "\n",
    "\n",
    "nIndexBits = 3\n",
    "nSvSize    = (1 << nIndexBits)\n",
    "nMaxShots  = 5\n",
    "nShots     = 5\n",
    "\n",
    "bitStringLen  = 2;\n",
    "bitOrdering   = np.asarray([0, 1], dtype=np.int32)\n",
    "\n",
    "bitStrings = np.empty((nShots,), dtype=np.int64)\n",
    "bitStrings_expected = np.asarray([0b00, 0b01, 0b10, 0b11, 0b11], dtype=np.int64)\n",
    "\n",
    "h_sv          = np.asarray([0.0+0.0j, 0.0+0.1j, 0.1+0.1j, 0.1+0.2j,\n",
    "                            0.2+0.2j, 0.3+0.3j, 0.3+0.4j, 0.4+0.5j], dtype=np.complex64)\n",
    "\n",
    "d_sv = cp.asarray(h_sv)\n",
    "\n",
    "# In real appliction, random numbers in range [0, 1) will be used.\n",
    "randnums      = np.asarray([0.1, 0.8, 0.4, 0.6, 0.2], dtype=np.float64)\n",
    "\n",
    "########################################################################\n",
    "\n",
    "# cuStateVec handle initialization\n",
    "handle = cusv.create()\n",
    "\n",
    "# create sampler and check the size of external workspace\n",
    "sampler, extraWorkspaceSizeInBytes = cusv.sampler_create(\n",
    "    handle, d_sv.data.ptr, cuquantum.cudaDataType.CUDA_C_32F, nIndexBits, nMaxShots)\n",
    "\n",
    "# allocate external workspace\n",
    "extraWorkspace = cp.cuda.alloc(extraWorkspaceSizeInBytes)\n",
    "\n",
    "# sample preprocess\n",
    "cusv.sampler_preprocess(\n",
    "    handle, sampler, extraWorkspace.ptr, extraWorkspaceSizeInBytes)\n",
    "\n",
    "# sample bit strings\n",
    "cusv.sampler_sample(\n",
    "    handle, sampler, bitStrings.ctypes.data, bitOrdering.ctypes.data, bitStringLen,\n",
    "    randnums.ctypes.data, nShots, cusv.SamplerOutput.ASCENDING_ORDER)\n",
    "\n",
    "# destroy sampler\n",
    "cusv.sampler_destroy(sampler)\n",
    "\n",
    "# destroy handle\n",
    "cusv.destroy(handle)\n",
    "\n",
    "if not np.allclose(bitStrings, bitStrings_expected):\n",
    "    raise ValueError(\"results mismatch\")\n",
    "print(\"test passed\")"
   ]
  },
  {
   "cell_type": "code",
   "execution_count": 3,
   "id": "a103aa72-3acc-4ac8-8ac6-92c94e11239f",
   "metadata": {},
   "outputs": [
    {
     "name": "stdout",
     "output_type": "stream",
     "text": [
      "State vector after Hadamard gate to the second qubit:\n",
      "[0.70710678+0.j 0.        +0.j 0.70710678+0.j 0.        +0.j]\n",
      "Expected state vector after Hadamard gate to the second qubit:\n",
      "[0.70710677+0.j 0.        +0.j 0.70710677+0.j 0.        +0.j]\n",
      "State vector after CNOT gate:\n",
      "[0.70710678+0.j 0.        +0.j 0.70710678+0.j 0.        +0.j]\n"
     ]
    },
    {
     "ename": "RuntimeError",
     "evalue": "example FAILED: wrong result",
     "output_type": "error",
     "traceback": [
      "\u001b[0;31m---------------------------------------------------------------------------\u001b[0m",
      "\u001b[0;31mRuntimeError\u001b[0m                              Traceback (most recent call last)",
      "Cell \u001b[0;32mIn[3], line 69\u001b[0m\n\u001b[1;32m     67\u001b[0m correct \u001b[38;5;241m=\u001b[39m cp\u001b[38;5;241m.\u001b[39mallclose(d_sv, bell_state)\n\u001b[1;32m     68\u001b[0m \u001b[38;5;28;01mif\u001b[39;00m \u001b[38;5;129;01mnot\u001b[39;00m correct:\n\u001b[0;32m---> 69\u001b[0m     \u001b[38;5;28;01mraise\u001b[39;00m \u001b[38;5;167;01mRuntimeError\u001b[39;00m(\u001b[38;5;124m\"\u001b[39m\u001b[38;5;124mexample FAILED: wrong result\u001b[39m\u001b[38;5;124m\"\u001b[39m)\n\u001b[1;32m     71\u001b[0m \u001b[38;5;28mprint\u001b[39m(\u001b[38;5;124m\"\u001b[39m\u001b[38;5;124mBell state creation successful.\u001b[39m\u001b[38;5;124m\"\u001b[39m)\n\u001b[1;32m     72\u001b[0m \u001b[38;5;28mprint\u001b[39m(\u001b[38;5;124m\"\u001b[39m\u001b[38;5;124mResulting state vector:\u001b[39m\u001b[38;5;124m\"\u001b[39m, d_sv)\n",
      "\u001b[0;31mRuntimeError\u001b[0m: example FAILED: wrong result"
     ]
    }
   ],
   "source": [
    "import numpy as np\n",
    "import cupy as cp\n",
    "from cuquantum import custatevec as cusv\n",
    "from cuquantum import cudaDataType as cudtype\n",
    "from cuquantum import ComputeType as ctype\n",
    "\n",
    "# Initialize parameters\n",
    "nIndexBits = 2  # 2 qubits\n",
    "nSvSize = (1 << nIndexBits)\n",
    "adjoint = 0\n",
    "\n",
    "# Qubit indices (corrected for cuQuantum indexing)\n",
    "h_target = (1,)  # Apply Hadamard to the second qubit (which is qubit 1 in zero-based index)\n",
    "cnot_targets = (1,)  # Target qubit for CNOT (qubit 0)\n",
    "cnot_controls = (0,)  # Control qubit for CNOT (qubit 1)\n",
    "\n",
    "# Initial statevector |00>\n",
    "d_sv = cp.zeros(nSvSize, dtype=cp.complex128)\n",
    "d_sv[0] = 1.0 + 0.0j  # Setting |00> state\n",
    "\n",
    "# Define Hadamard gate (correct as complex64)\n",
    "h_matrix = cp.array([[1, 1], [1, -1]], dtype=cp.complex128) / np.sqrt(2)\n",
    "\n",
    "# Define CNOT gate (correct as complex64)\n",
    "cnot_matrix = cp.array([[1, 0, 0, 0],\n",
    "                        [0, 1, 0, 0],\n",
    "                        [0, 0, 0, 1],\n",
    "                        [0, 0, 1, 0]], dtype=cp.complex128)\n",
    "\n",
    "# cuStateVec handle initialization\n",
    "handle = cusv.create()\n",
    "\n",
    "# Apply Hadamard gate to the second qubit\n",
    "cusv.apply_matrix(\n",
    "    handle, d_sv.data.ptr, cudtype.CUDA_C_64F, nIndexBits,\n",
    "    h_matrix.data.ptr, cudtype.CUDA_C_64F, cusv.MatrixLayout.ROW, adjoint,\n",
    "    h_target, len(h_target), (), 0, 0, ctype.COMPUTE_64F,\n",
    "    0, 0)\n",
    "\n",
    "# Debug: print state vector after applying Hadamard gate to the second qubit\n",
    "print(\"State vector after Hadamard gate to the second qubit:\")\n",
    "print(d_sv)\n",
    "\n",
    "# Verify intermediate state vector manually\n",
    "expected_after_hadamard = (1 / np.sqrt(2)) * cp.array([1.0, 0.0, 1.0, 0.0], dtype=cp.complex64)\n",
    "print(\"Expected state vector after Hadamard gate to the second qubit:\")\n",
    "print(expected_after_hadamard)\n",
    "assert cp.allclose(d_sv, expected_after_hadamard), \"Hadamard gate application failed.\"\n",
    "\n",
    "# Apply CNOT gate with qubit 1 as control and qubit 0 as target\n",
    "cusv.apply_matrix(\n",
    "    handle, d_sv.data.ptr, cudtype.CUDA_C_64F, nIndexBits,\n",
    "    cnot_matrix.data.ptr, cudtype.CUDA_C_64F, cusv.MatrixLayout.ROW, adjoint,\n",
    "    cnot_targets, len(cnot_targets), cnot_controls, 0, len(cnot_controls), ctype.COMPUTE_64F,\n",
    "    0, 0)\n",
    "\n",
    "# Destroy handle\n",
    "cusv.destroy(handle)\n",
    "\n",
    "# Debug: print state vector after applying CNOT gate\n",
    "print(\"State vector after CNOT gate:\")\n",
    "print(d_sv)\n",
    "# Expected Bell state (|00> + |11>) / sqrt(2)\n",
    "bell_state = (1 / np.sqrt(2)) * cp.array([1.0, 0.0, 0.0, 1.0], dtype=cp.complex128)\n",
    "\n",
    "# Check if d_sv holds the Bell state\n",
    "correct = cp.allclose(d_sv, bell_state)\n",
    "if not correct:\n",
    "    raise RuntimeError(\"example FAILED: wrong result\")\n",
    "\n",
    "print(\"Bell state creation successful.\")\n",
    "print(\"Resulting state vector:\", d_sv)"
   ]
  },
  {
   "cell_type": "code",
   "execution_count": null,
   "id": "4f6fcda7-e174-4944-b21f-faa974efd013",
   "metadata": {},
   "outputs": [],
   "source": []
  }
 ],
 "metadata": {
  "kernelspec": {
   "display_name": "cuQuantum",
   "language": "python",
   "name": "cuquantum"
  },
  "language_info": {
   "codemirror_mode": {
    "name": "ipython",
    "version": 3
   },
   "file_extension": ".py",
   "mimetype": "text/x-python",
   "name": "python",
   "nbconvert_exporter": "python",
   "pygments_lexer": "ipython3",
   "version": "3.8.13"
  }
 },
 "nbformat": 4,
 "nbformat_minor": 5
}
